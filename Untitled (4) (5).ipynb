{
 "cells": [
  {
   "cell_type": "code",
   "execution_count": 1,
   "id": "e57e068c",
   "metadata": {},
   "outputs": [],
   "source": [
    "# import libraries\n",
    "import numpy as np\n",
    "import pandas as pd\n",
    "\n",
    "import warnings\n",
    "warnings.filterwarnings('ignore')"
   ]
  },
  {
   "cell_type": "code",
   "execution_count": 2,
   "id": "13605ccc",
   "metadata": {},
   "outputs": [],
   "source": [
    "# read the data\n",
    "train=pd.read_csv('train.csv')\n",
    "test=pd.read_csv('test.csv')"
   ]
  },
  {
   "cell_type": "code",
   "execution_count": 3,
   "id": "a0e16511",
   "metadata": {},
   "outputs": [
    {
     "data": {
      "text/html": [
       "<div>\n",
       "<style scoped>\n",
       "    .dataframe tbody tr th:only-of-type {\n",
       "        vertical-align: middle;\n",
       "    }\n",
       "\n",
       "    .dataframe tbody tr th {\n",
       "        vertical-align: top;\n",
       "    }\n",
       "\n",
       "    .dataframe thead th {\n",
       "        text-align: right;\n",
       "    }\n",
       "</style>\n",
       "<table border=\"1\" class=\"dataframe\">\n",
       "  <thead>\n",
       "    <tr style=\"text-align: right;\">\n",
       "      <th></th>\n",
       "      <th>Sentence_id</th>\n",
       "      <th>New_Sentence</th>\n",
       "      <th>Type</th>\n",
       "    </tr>\n",
       "  </thead>\n",
       "  <tbody>\n",
       "    <tr>\n",
       "      <th>0</th>\n",
       "      <td>GERRES15609</td>\n",
       "      <td>&lt;html&gt; b'Author and/or Review architecture/des...</td>\n",
       "      <td>Responsibility</td>\n",
       "    </tr>\n",
       "    <tr>\n",
       "      <th>1</th>\n",
       "      <td>PHERES15784</td>\n",
       "      <td>&lt;html&gt; b'Should be able to develop custom dyna...</td>\n",
       "      <td>Responsibility</td>\n",
       "    </tr>\n",
       "    <tr>\n",
       "      <th>2</th>\n",
       "      <td>GERREQ10457</td>\n",
       "      <td>&lt;html&gt; b'Experience in working cross\\\\u2010fun...</td>\n",
       "      <td>Requirement</td>\n",
       "    </tr>\n",
       "    <tr>\n",
       "      <th>3</th>\n",
       "      <td>GERSKL27235</td>\n",
       "      <td>&lt;html&gt; b'Previous business experience, includi...</td>\n",
       "      <td>Skill</td>\n",
       "    </tr>\n",
       "    <tr>\n",
       "      <th>4</th>\n",
       "      <td>HONSSK18415</td>\n",
       "      <td>b'Delivering fast and right the first \\\\U0001f...</td>\n",
       "      <td>SoftSkill</td>\n",
       "    </tr>\n",
       "  </tbody>\n",
       "</table>\n",
       "</div>"
      ],
      "text/plain": [
       "   Sentence_id                                       New_Sentence  \\\n",
       "0  GERRES15609  <html> b'Author and/or Review architecture/des...   \n",
       "1  PHERES15784  <html> b'Should be able to develop custom dyna...   \n",
       "2  GERREQ10457  <html> b'Experience in working cross\\\\u2010fun...   \n",
       "3  GERSKL27235  <html> b'Previous business experience, includi...   \n",
       "4  HONSSK18415  b'Delivering fast and right the first \\\\U0001f...   \n",
       "\n",
       "             Type  \n",
       "0  Responsibility  \n",
       "1  Responsibility  \n",
       "2     Requirement  \n",
       "3           Skill  \n",
       "4       SoftSkill  "
      ]
     },
     "metadata": {},
     "output_type": "display_data"
    },
    {
     "data": {
      "text/html": [
       "<div>\n",
       "<style scoped>\n",
       "    .dataframe tbody tr th:only-of-type {\n",
       "        vertical-align: middle;\n",
       "    }\n",
       "\n",
       "    .dataframe tbody tr th {\n",
       "        vertical-align: top;\n",
       "    }\n",
       "\n",
       "    .dataframe thead th {\n",
       "        text-align: right;\n",
       "    }\n",
       "</style>\n",
       "<table border=\"1\" class=\"dataframe\">\n",
       "  <thead>\n",
       "    <tr style=\"text-align: right;\">\n",
       "      <th></th>\n",
       "      <th>Sentence_id</th>\n",
       "      <th>New_Sentence</th>\n",
       "    </tr>\n",
       "  </thead>\n",
       "  <tbody>\n",
       "    <tr>\n",
       "      <th>0</th>\n",
       "      <td>UAERES16346</td>\n",
       "      <td>&lt;html&gt; b'Collaborate across all of DB&amp;T practi...</td>\n",
       "    </tr>\n",
       "    <tr>\n",
       "      <th>1</th>\n",
       "      <td>COGREQ15586</td>\n",
       "      <td>b'Strong \\\\u2705 technology expertise in Ident...</td>\n",
       "    </tr>\n",
       "    <tr>\n",
       "      <th>2</th>\n",
       "      <td>UAEREQ12722</td>\n",
       "      <td>b'Strong knowledge &lt;br&gt; on Service \\\\U0001f517...</td>\n",
       "    </tr>\n",
       "    <tr>\n",
       "      <th>3</th>\n",
       "      <td>COGSKL29155</td>\n",
       "      <td>&lt;html&gt; b'Architect scalable data processing an...</td>\n",
       "    </tr>\n",
       "    <tr>\n",
       "      <th>4</th>\n",
       "      <td>PHERES12551</td>\n",
       "      <td>&lt;html&gt; b'Map client organization, build outsta...</td>\n",
       "    </tr>\n",
       "  </tbody>\n",
       "</table>\n",
       "</div>"
      ],
      "text/plain": [
       "   Sentence_id                                       New_Sentence\n",
       "0  UAERES16346  <html> b'Collaborate across all of DB&T practi...\n",
       "1  COGREQ15586  b'Strong \\\\u2705 technology expertise in Ident...\n",
       "2  UAEREQ12722  b'Strong knowledge <br> on Service \\\\U0001f517...\n",
       "3  COGSKL29155  <html> b'Architect scalable data processing an...\n",
       "4  PHERES12551  <html> b'Map client organization, build outsta..."
      ]
     },
     "metadata": {},
     "output_type": "display_data"
    }
   ],
   "source": [
    "display(train.head())\n",
    "display(test.head())"
   ]
  },
  {
   "cell_type": "code",
   "execution_count": 4,
   "id": "2175af09",
   "metadata": {},
   "outputs": [
    {
     "name": "stdout",
     "output_type": "stream",
     "text": [
      "<class 'pandas.core.frame.DataFrame'>\n",
      "RangeIndex: 15029 entries, 0 to 15028\n",
      "Data columns (total 2 columns):\n",
      " #   Column        Non-Null Count  Dtype \n",
      "---  ------        --------------  ----- \n",
      " 0   Sentence_id   15029 non-null  object\n",
      " 1   New_Sentence  15029 non-null  object\n",
      "dtypes: object(2)\n",
      "memory usage: 235.0+ KB\n"
     ]
    }
   ],
   "source": [
    "test.info()"
   ]
  },
  {
   "cell_type": "code",
   "execution_count": 5,
   "id": "cac070e1",
   "metadata": {},
   "outputs": [],
   "source": [
    "#dropna of train data\n",
    "train.dropna(inplace = True)\n",
    "\n",
    "# #filllna of test dataset\n",
    "test.fillna('Lorem ipsum dolor sit amet consectetur adipisicing elit. Maxime mollitia', inplace=True)"
   ]
  },
  {
   "cell_type": "code",
   "execution_count": 6,
   "id": "6963ef3c",
   "metadata": {},
   "outputs": [],
   "source": [
    "# drop Sentence_id\n",
    "train.drop('Sentence_id',axis=1,inplace=True)\n",
    "\n",
    "Sentence_id = test['Sentence_id']\n",
    "test.drop('Sentence_id',axis=1,inplace=True)"
   ]
  },
  {
   "cell_type": "code",
   "execution_count": 7,
   "id": "69dde3d0",
   "metadata": {},
   "outputs": [
    {
     "data": {
      "text/html": [
       "<div>\n",
       "<style scoped>\n",
       "    .dataframe tbody tr th:only-of-type {\n",
       "        vertical-align: middle;\n",
       "    }\n",
       "\n",
       "    .dataframe tbody tr th {\n",
       "        vertical-align: top;\n",
       "    }\n",
       "\n",
       "    .dataframe thead th {\n",
       "        text-align: right;\n",
       "    }\n",
       "</style>\n",
       "<table border=\"1\" class=\"dataframe\">\n",
       "  <thead>\n",
       "    <tr style=\"text-align: right;\">\n",
       "      <th></th>\n",
       "      <th>New_Sentence</th>\n",
       "      <th>Type</th>\n",
       "    </tr>\n",
       "  </thead>\n",
       "  <tbody>\n",
       "    <tr>\n",
       "      <th>0</th>\n",
       "      <td>&lt;html&gt; b'Author and/or Review architecture/des...</td>\n",
       "      <td>Responsibility</td>\n",
       "    </tr>\n",
       "    <tr>\n",
       "      <th>1</th>\n",
       "      <td>&lt;html&gt; b'Should be able to develop custom dyna...</td>\n",
       "      <td>Responsibility</td>\n",
       "    </tr>\n",
       "    <tr>\n",
       "      <th>2</th>\n",
       "      <td>&lt;html&gt; b'Experience in working cross\\\\u2010fun...</td>\n",
       "      <td>Requirement</td>\n",
       "    </tr>\n",
       "    <tr>\n",
       "      <th>3</th>\n",
       "      <td>&lt;html&gt; b'Previous business experience, includi...</td>\n",
       "      <td>Skill</td>\n",
       "    </tr>\n",
       "    <tr>\n",
       "      <th>4</th>\n",
       "      <td>b'Delivering fast and right the first \\\\U0001f...</td>\n",
       "      <td>SoftSkill</td>\n",
       "    </tr>\n",
       "  </tbody>\n",
       "</table>\n",
       "</div>"
      ],
      "text/plain": [
       "                                        New_Sentence            Type\n",
       "0  <html> b'Author and/or Review architecture/des...  Responsibility\n",
       "1  <html> b'Should be able to develop custom dyna...  Responsibility\n",
       "2  <html> b'Experience in working cross\\\\u2010fun...     Requirement\n",
       "3  <html> b'Previous business experience, includi...           Skill\n",
       "4  b'Delivering fast and right the first \\\\U0001f...       SoftSkill"
      ]
     },
     "metadata": {},
     "output_type": "display_data"
    },
    {
     "data": {
      "text/html": [
       "<div>\n",
       "<style scoped>\n",
       "    .dataframe tbody tr th:only-of-type {\n",
       "        vertical-align: middle;\n",
       "    }\n",
       "\n",
       "    .dataframe tbody tr th {\n",
       "        vertical-align: top;\n",
       "    }\n",
       "\n",
       "    .dataframe thead th {\n",
       "        text-align: right;\n",
       "    }\n",
       "</style>\n",
       "<table border=\"1\" class=\"dataframe\">\n",
       "  <thead>\n",
       "    <tr style=\"text-align: right;\">\n",
       "      <th></th>\n",
       "      <th>New_Sentence</th>\n",
       "    </tr>\n",
       "  </thead>\n",
       "  <tbody>\n",
       "    <tr>\n",
       "      <th>0</th>\n",
       "      <td>&lt;html&gt; b'Collaborate across all of DB&amp;T practi...</td>\n",
       "    </tr>\n",
       "    <tr>\n",
       "      <th>1</th>\n",
       "      <td>b'Strong \\\\u2705 technology expertise in Ident...</td>\n",
       "    </tr>\n",
       "    <tr>\n",
       "      <th>2</th>\n",
       "      <td>b'Strong knowledge &lt;br&gt; on Service \\\\U0001f517...</td>\n",
       "    </tr>\n",
       "    <tr>\n",
       "      <th>3</th>\n",
       "      <td>&lt;html&gt; b'Architect scalable data processing an...</td>\n",
       "    </tr>\n",
       "    <tr>\n",
       "      <th>4</th>\n",
       "      <td>&lt;html&gt; b'Map client organization, build outsta...</td>\n",
       "    </tr>\n",
       "  </tbody>\n",
       "</table>\n",
       "</div>"
      ],
      "text/plain": [
       "                                        New_Sentence\n",
       "0  <html> b'Collaborate across all of DB&T practi...\n",
       "1  b'Strong \\\\u2705 technology expertise in Ident...\n",
       "2  b'Strong knowledge <br> on Service \\\\U0001f517...\n",
       "3  <html> b'Architect scalable data processing an...\n",
       "4  <html> b'Map client organization, build outsta..."
      ]
     },
     "metadata": {},
     "output_type": "display_data"
    }
   ],
   "source": [
    "display(train.head())\n",
    "display(test.head())"
   ]
  },
  {
   "cell_type": "code",
   "execution_count": 8,
   "id": "952ffd3d",
   "metadata": {},
   "outputs": [
    {
     "data": {
      "text/plain": [
       "array(['Responsibility', 'Requirement', 'Skill', 'SoftSkill', 'Education',\n",
       "       'Experience'], dtype=object)"
      ]
     },
     "execution_count": 8,
     "metadata": {},
     "output_type": "execute_result"
    }
   ],
   "source": [
    "train.Type.unique()"
   ]
  },
  {
   "cell_type": "code",
   "execution_count": 9,
   "id": "78d1a3af",
   "metadata": {},
   "outputs": [],
   "source": [
    "# Change categorical data to numerical data\n",
    "train.replace({'Type' : { 'Responsibility' : 0, 'Requirement' : 1, 'Skill' : 2,\n",
    "                         'SoftSkill' : 3, 'Education' : 4, 'Experience' : 5}},inplace=True)"
   ]
  },
  {
   "cell_type": "code",
   "execution_count": 10,
   "id": "3da06cf8",
   "metadata": {},
   "outputs": [
    {
     "name": "stdout",
     "output_type": "stream",
     "text": [
      "WARNING:tensorflow:From D:\\New folder\\lib\\site-packages\\keras\\src\\losses.py:2976: The name tf.losses.sparse_softmax_cross_entropy is deprecated. Please use tf.compat.v1.losses.sparse_softmax_cross_entropy instead.\n",
      "\n"
     ]
    }
   ],
   "source": [
    "# import transformers and tokenizers\n",
    "from tqdm.auto import tqdm\n",
    "import tensorflow as tf"
   ]
  },
  {
   "cell_type": "code",
   "execution_count": 11,
   "id": "a7bae572",
   "metadata": {},
   "outputs": [],
   "source": [
    "import logging\n",
    "logging.getLogger('tensorflow').disabled = True"
   ]
  },
  {
   "cell_type": "code",
   "execution_count": 12,
   "id": "27345e20",
   "metadata": {},
   "outputs": [],
   "source": [
    "from transformers import BertTokenizer\n",
    "\n",
    "# Load the BERT tokenizer\n",
    "tokenizer = BertTokenizer.from_pretrained('bert-base-cased')\n"
   ]
  },
  {
   "cell_type": "code",
   "execution_count": 13,
   "id": "f62c9c1c",
   "metadata": {},
   "outputs": [],
   "source": [
    "# load tokenizer\n",
    "tokenizer = BertTokenizer.from_pretrained('bert-base-cased')"
   ]
  },
  {
   "cell_type": "code",
   "execution_count": 14,
   "id": "cba43ef8",
   "metadata": {},
   "outputs": [],
   "source": [
    "# zero array of shape (len(train),256)\n",
    "X_input_ids = np.zeros((len(train), 256))\n",
    "X_attn_masks = np.zeros((len(train), 256))\n"
   ]
  },
  {
   "cell_type": "code",
   "execution_count": 15,
   "id": "ddbfe27c",
   "metadata": {},
   "outputs": [],
   "source": [
    "def generate_training_data(train, ids, masks, tokenizer):\n",
    "    for i, text in tqdm(enumerate(train['New_Sentence'])):\n",
    "        tokenized_text = tokenizer.encode_plus(\n",
    "            text,\n",
    "            max_length=256, \n",
    "            truncation=True, \n",
    "            padding='max_length', \n",
    "            add_special_tokens=True,\n",
    "            return_tensors='tf'\n",
    "        )\n",
    "        ids[i, :] = tokenized_text.input_ids\n",
    "        masks[i, :] = tokenized_text.attention_mask\n",
    "    return ids, masks"
   ]
  },
  {
   "cell_type": "code",
   "execution_count": 16,
   "id": "1a8189fe",
   "metadata": {},
   "outputs": [
    {
     "data": {
      "application/vnd.jupyter.widget-view+json": {
       "model_id": "a565b179f05e438a9828152a1ff39bd0",
       "version_major": 2,
       "version_minor": 0
      },
      "text/plain": [
       "0it [00:00, ?it/s]"
      ]
     },
     "metadata": {},
     "output_type": "display_data"
    }
   ],
   "source": [
    "# generate input ids and attention masks\n",
    "X_input_ids, X_attn_masks = generate_training_data(train, X_input_ids, X_attn_masks, tokenizer)"
   ]
  },
  {
   "cell_type": "code",
   "execution_count": 17,
   "id": "b7c06cee",
   "metadata": {},
   "outputs": [
    {
     "data": {
      "text/plain": [
       "(6,)"
      ]
     },
     "execution_count": 17,
     "metadata": {},
     "output_type": "execute_result"
    }
   ],
   "source": [
    "train.Type.unique().shape"
   ]
  },
  {
   "cell_type": "code",
   "execution_count": 18,
   "id": "da238e87",
   "metadata": {},
   "outputs": [
    {
     "data": {
      "text/plain": [
       "(60115, 6)"
      ]
     },
     "execution_count": 18,
     "metadata": {},
     "output_type": "execute_result"
    }
   ],
   "source": [
    "# Create a zeor array for label \n",
    "labels = np.zeros((len(train), 6))\n",
    "labels.shape"
   ]
  },
  {
   "cell_type": "code",
   "execution_count": 19,
   "id": "f03083b0",
   "metadata": {},
   "outputs": [],
   "source": [
    "# one hot encoding of labels\n",
    "labels[np.arange(len(train)), train['Type'].values] = 1"
   ]
  },
  {
   "cell_type": "code",
   "execution_count": 20,
   "id": "a7acee2f",
   "metadata": {},
   "outputs": [],
   "source": [
    "# creating a data pipeline using tensorflow dataset utility\n",
    "dataset = tf.data.Dataset.from_tensor_slices((X_input_ids, X_attn_masks, labels))"
   ]
  },
  {
   "cell_type": "code",
   "execution_count": 21,
   "id": "207c5542",
   "metadata": {},
   "outputs": [],
   "source": [
    "def datasetMapFunction(input_ids, attn_masks, labels):\n",
    "    return {\n",
    "        'input_ids': input_ids,\n",
    "        'attention_mask': attn_masks\n",
    "    }, labels"
   ]
  },
  {
   "cell_type": "code",
   "execution_count": 22,
   "id": "87cf4411",
   "metadata": {},
   "outputs": [],
   "source": [
    "# creating dataset with maping input ids, attention masks and labels\n",
    "dataset = dataset.map(datasetMapFunction)\n",
    "\n",
    "# split dataset into train and validation\n",
    "dataset = dataset.shuffle(1000).batch(16, drop_remainder=True)\n",
    "\n",
    "p = 0.8\n",
    "train_size = int((len(train)//16)*p)\n",
    "\n",
    "train_dataset = dataset.take(train_size)\n",
    "val_dataset = dataset.skip(train_size)"
   ]
  },
  {
   "cell_type": "code",
   "execution_count": 23,
   "id": "fac4dddd",
   "metadata": {},
   "outputs": [],
   "source": [
    "# import BERt model\n",
    "from transformers import TFBertModel"
   ]
  },
  {
   "cell_type": "code",
   "execution_count": 24,
   "id": "b69b3ff8",
   "metadata": {},
   "outputs": [
    {
     "name": "stderr",
     "output_type": "stream",
     "text": [
      "Some weights of the PyTorch model were not used when initializing the TF 2.0 model TFBertModel: ['cls.predictions.bias', 'cls.predictions.transform.LayerNorm.bias', 'cls.predictions.transform.dense.weight', 'cls.predictions.transform.LayerNorm.weight', 'cls.seq_relationship.weight', 'cls.seq_relationship.bias', 'cls.predictions.transform.dense.bias']\n",
      "- This IS expected if you are initializing TFBertModel from a PyTorch model trained on another task or with another architecture (e.g. initializing a TFBertForSequenceClassification model from a BertForPreTraining model).\n",
      "- This IS NOT expected if you are initializing TFBertModel from a PyTorch model that you expect to be exactly identical (e.g. initializing a TFBertForSequenceClassification model from a BertForSequenceClassification model).\n",
      "All the weights of TFBertModel were initialized from the PyTorch model.\n",
      "If your task is similar to the task the model of the checkpoint was trained on, you can already use TFBertModel for predictions without further training.\n"
     ]
    }
   ],
   "source": [
    "# load bert base model\n",
    "model = TFBertModel.from_pretrained('bert-base-cased') "
   ]
  },
  {
   "cell_type": "code",
   "execution_count": 25,
   "id": "7c18075c",
   "metadata": {},
   "outputs": [
    {
     "name": "stderr",
     "output_type": "stream",
     "text": [
      "Some weights of the PyTorch model were not used when initializing the TF 2.0 model TFBertModel: ['cls.predictions.bias', 'cls.predictions.transform.LayerNorm.bias', 'cls.predictions.transform.dense.weight', 'cls.predictions.transform.LayerNorm.weight', 'cls.seq_relationship.weight', 'cls.seq_relationship.bias', 'cls.predictions.transform.dense.bias']\n",
      "- This IS expected if you are initializing TFBertModel from a PyTorch model trained on another task or with another architecture (e.g. initializing a TFBertForSequenceClassification model from a BertForPreTraining model).\n",
      "- This IS NOT expected if you are initializing TFBertModel from a PyTorch model that you expect to be exactly identical (e.g. initializing a TFBertForSequenceClassification model from a BertForSequenceClassification model).\n",
      "All the weights of TFBertModel were initialized from the PyTorch model.\n",
      "If your task is similar to the task the model of the checkpoint was trained on, you can already use TFBertModel for predictions without further training.\n"
     ]
    },
    {
     "name": "stdout",
     "output_type": "stream",
     "text": [
      "Model: \"model\"\n",
      "__________________________________________________________________________________________________\n",
      " Layer (type)                Output Shape                 Param #   Connected to                  \n",
      "==================================================================================================\n",
      " input_ids (InputLayer)      [(None, 256)]                0         []                            \n",
      "                                                                                                  \n",
      " attention_mask (InputLayer  [(None, 256)]                0         []                            \n",
      " )                                                                                                \n",
      "                                                                                                  \n",
      " tf_bert_model_1 (TFBertMod  TFBaseModelOutputWithPooli   1083102   ['input_ids[0][0]',           \n",
      " el)                         ngAndCrossAttentions(last_   72         'attention_mask[0][0]']      \n",
      "                             hidden_state=(None, 256, 7                                           \n",
      "                             68),                                                                 \n",
      "                              pooler_output=(None, 768)                                           \n",
      "                             , past_key_values=None, hi                                           \n",
      "                             dden_states=None, attentio                                           \n",
      "                             ns=None, cross_attentions=                                           \n",
      "                             None)                                                                \n",
      "                                                                                                  \n",
      " intermediate_layer (Dense)  (None, 512)                  393728    ['tf_bert_model_1[0][1]']     \n",
      "                                                                                                  \n",
      " output_layer (Dense)        (None, 6)                    3078      ['intermediate_layer[0][0]']  \n",
      "                                                                                                  \n",
      "==================================================================================================\n",
      "Total params: 108707078 (414.68 MB)\n",
      "Trainable params: 108707078 (414.68 MB)\n",
      "Non-trainable params: 0 (0.00 Byte)\n",
      "__________________________________________________________________________________________________\n"
     ]
    }
   ],
   "source": [
    "from transformers import TFBertModel\n",
    "import tensorflow as tf\n",
    "\n",
    "# Load the pre-trained BERT model\n",
    "bert_model = TFBertModel.from_pretrained('bert-base-cased')\n",
    "\n",
    "# Define input layers\n",
    "input_ids = tf.keras.layers.Input(shape=(256,), name='input_ids', dtype='int32')\n",
    "attn_masks = tf.keras.layers.Input(shape=(256,), name='attention_mask', dtype='int32')\n",
    "\n",
    "# Get BERT embeddings\n",
    "bert_output = bert_model([input_ids, attn_masks])[1]  # Use index 1 to get the pooled output (CLS token)\n",
    "intermediate_layer = tf.keras.layers.Dense(512, activation='relu', name='intermediate_layer')(bert_output)\n",
    "output_layer = tf.keras.layers.Dense(6, activation='softmax', name='output_layer')(intermediate_layer)\n",
    "\n",
    "# Define and compile the model\n",
    "model = tf.keras.Model(inputs=[input_ids, attn_masks], outputs=output_layer)\n",
    "model.summary()\n"
   ]
  },
  {
   "cell_type": "code",
   "execution_count": 26,
   "id": "38b8e152",
   "metadata": {},
   "outputs": [],
   "source": [
    "# Compile model with optimizer, loss, and metrics\n",
    "optim = tf.keras.optimizers.Adam(learning_rate=1e-5)\n",
    "loss_func = tf.keras.losses.CategoricalCrossentropy()\n",
    "acc = tf.keras.metrics.CategoricalAccuracy('accuracy')\n",
    "\n",
    "model.compile(optimizer=optim, loss=loss_func, metrics=[acc])\n"
   ]
  },
  {
   "cell_type": "code",
   "execution_count": 27,
   "id": "16193928",
   "metadata": {},
   "outputs": [],
   "source": [
    "# Use the legacy optimizer\n",
    "optim = tf.keras.optimizers.legacy.Adam(learning_rate=1e-5, decay=1e-6)\n"
   ]
  },
  {
   "cell_type": "code",
   "execution_count": null,
   "id": "ccce20c7",
   "metadata": {},
   "outputs": [
    {
     "name": "stdout",
     "output_type": "stream",
     "text": [
      "Epoch 1/2\n",
      "  49/3005 [..............................] - ETA: 105:34:16 - loss: 1.6534 - accuracy: 0.3240"
     ]
    }
   ],
   "source": [
    "# train model\n",
    "history = model.fit( train_dataset, validation_data=val_dataset, epochs=2)"
   ]
  },
  {
   "cell_type": "code",
   "execution_count": null,
   "id": "6230a47d",
   "metadata": {},
   "outputs": [],
   "source": [
    "# one hot to categorical\n",
    "classes = ['Responsibility', 'Requirement', 'Skill', 'SoftSkill', 'Education',\n",
    "           'Experience']"
   ]
  },
  {
   "cell_type": "code",
   "execution_count": null,
   "id": "b2cfe3e4",
   "metadata": {},
   "outputs": [],
   "source": [
    "def prepare_data(input_text):\n",
    "    token = tokenizer.encode_plus(\n",
    "        input_text,\n",
    "        max_length=256, \n",
    "        truncation=True, \n",
    "        padding='max_length', \n",
    "        add_special_tokens=True,\n",
    "        return_tensors='tf'\n",
    "    )\n",
    "    return {\n",
    "        'input_ids': tf.cast(token.input_ids, tf.float64),\n",
    "        'attention_mask': tf.cast(token.attention_mask, tf.float64)\n",
    "    }\n",
    "\n",
    "def make_prediction(input_text):\n",
    "    processed_data = prepare_data(input_text)\n",
    "    probs = model.predict(processed_data)[0]\n",
    "    return classes[np.argmax(probs)]"
   ]
  },
  {
   "cell_type": "code",
   "execution_count": null,
   "id": "2c9ea1c2",
   "metadata": {},
   "outputs": [],
   "source": [
    "pred = []\n",
    "for i in tqdm(range(len(test))):\n",
    "    pred.append(make_prediction(test['New_Sentence'][i]))"
   ]
  },
  {
   "cell_type": "code",
   "execution_count": null,
   "id": "d4967c51",
   "metadata": {},
   "outputs": [],
   "source": [
    "# create submission file with Sentence_id and Type\n",
    "submission = pd.DataFrame({'Sentence_id': Sentence_id, 'Type': pred})\n",
    "submission.to_csv('sample submission.csv', index=False)"
   ]
  }
 ],
 "metadata": {
  "kernelspec": {
   "display_name": "Python 3 (ipykernel)",
   "language": "python",
   "name": "python3"
  },
  "language_info": {
   "codemirror_mode": {
    "name": "ipython",
    "version": 3
   },
   "file_extension": ".py",
   "mimetype": "text/x-python",
   "name": "python",
   "nbconvert_exporter": "python",
   "pygments_lexer": "ipython3",
   "version": "3.9.7"
  }
 },
 "nbformat": 4,
 "nbformat_minor": 5
}
